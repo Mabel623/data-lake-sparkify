{
 "cells": [
  {
   "cell_type": "code",
   "execution_count": null,
   "metadata": {
    "editable": true
   },
   "outputs": [],
   "source": [
    "import configparser\n",
    "from datetime import datetime\n",
    "import os\n",
    "from pyspark.sql import SparkSession\n",
    "from pyspark.sql.functions import udf, col, monotonically_increasing_id\n",
    "import pyspark.sql.functions as F\n",
    "from pyspark.sql.functions import year, month, dayofmonth, hour, weekofyear, date_format, dayofweek\n",
    "from pyspark.sql.types import StructType, StructField, DoubleType, StringType, IntegerType, DateType, DoubleType, TimestampType\n",
    "\n",
    "config = configparser.ConfigParser()\n",
    "config.read_file(open('dl.cfg'))\n",
    "os.environ['AWS_ACCESS_KEY_ID']=config['AWS']['AWS_ACCESS_KEY_ID']\n",
    "os.environ['AWS_SECRET_ACCESS_KEY']=config['AWS']['AWS_SECRET_ACCESS_KEY']\n",
    "\n",
    "song_data = \"s3a://udacity-dend/\" + \"song_data/*/*/*/*.json\"\n",
    "output_data = \"s3a://udacitylake1/\"\n",
    "log_data = \"s3a://udacity-dend/\" + \"log_data/*/*/*.json\""
   ]
  },
  {
   "cell_type": "code",
   "execution_count": null,
   "metadata": {
    "editable": true
   },
   "outputs": [],
   "source": [
    "def create_spark_session():\n",
    "    spark = SparkSession \\\n",
    "        .builder \\\n",
    "        .appName(\"Data Wrangling with Spark SQL\") \\\n",
    "        .config(\"spark.jars.packages\", \"org.apache.hadoop:hadoop-aws:2.7.0\") \\\n",
    "        .getOrCreate()\n",
    "    return spark\n",
    "spark = create_spark_session()"
   ]
  },
  {
   "cell_type": "code",
   "execution_count": null,
   "metadata": {
    "editable": true
   },
   "outputs": [],
   "source": [
    "# Define type of data \n",
    "songdata_schema = StructType([\n",
    "    StructField(\"artist_id\", StringType(), True),\n",
    "    StructField(\"artist_latitude\", DoubleType(), True),\n",
    "    StructField(\"artist_location\", StringType(), True),\n",
    "    StructField(\"artist_longitude\", DoubleType(), True),\n",
    "    StructField(\"artist_name\", StringType(), True), \n",
    "    StructField(\"duration\", DoubleType(), True),\n",
    "    StructField(\"num_songs\", IntegerType(), True),\n",
    "    StructField(\"song_id\", StringType(), False),\n",
    "    StructField(\"title\", StringType(), False),\n",
    "    StructField(\"year\", IntegerType(), True)\n",
    "])\n",
    "df = spark.read.json(song_data, schema = songdata_schema)\n",
    "df.printSchema()\n",
    "#df.show(5)"
   ]
  },
  {
   "cell_type": "markdown",
   "metadata": {
    "editable": true
   },
   "source": [
    "### Processing Song Data"
   ]
  },
  {
   "cell_type": "code",
   "execution_count": null,
   "metadata": {
    "editable": true
   },
   "outputs": [],
   "source": [
    "# Create Song Table \n",
    "# songs - songs in music database\n",
    "# song_id, title, artist_id, year, duration\n",
    "songs_table = df.select(\"song_id\", \"title\", \"artist_id\", \"year\", \"duration\")\n",
    "songs_table.show(5)"
   ]
  },
  {
   "cell_type": "code",
   "execution_count": null,
   "metadata": {
    "editable": true
   },
   "outputs": [],
   "source": [
    "# Write Songs Table in parquet files partitioned by year and artist\n",
    "songs_table.write.parquet(\n",
    "        output_data + \"songs_table.parquet\",\n",
    "        mode=\"overwrite\",\n",
    "        partitionBy=[\"year\", \"artist_id\"]\n",
    ")"
   ]
  },
  {
   "cell_type": "code",
   "execution_count": null,
   "metadata": {
    "editable": true
   },
   "outputs": [],
   "source": [
    "# Create Artists Table\n",
    "#artists - artists in music database\n",
    "# artist_id, name, location, lattitude, longitude\n",
    "artists_table = df.select(\n",
    "    \"artist_id\",\n",
    "    col(\"artist_name\").alias(\"name\"),\n",
    "    col(\"artist_location\").alias(\"location\"),\n",
    "    col(\"artist_latitude\").alias(\"latitude\"),\n",
    "    col(\"artist_longitude\").alias(\"longitude\")).distinct()\n",
    "artists_table.show(5)"
   ]
  },
  {
   "cell_type": "code",
   "execution_count": null,
   "metadata": {
    "editable": true
   },
   "outputs": [],
   "source": [
    "# write artists table to parquet files\n",
    "artists_table.write.parquet(\n",
    "        output_data + \"artists_table.parquet\",\n",
    "        mode=\"overwrite\"\n",
    ")"
   ]
  },
  {
   "cell_type": "code",
   "execution_count": null,
   "metadata": {
    "editable": true
   },
   "outputs": [],
   "source": [
    "def process_song_data(spark, input_data, output_data):\n",
    "    # get filepath to song data file\n",
    "    song_data = input_data + \"song_data/*/*/*/*.json\"\n",
    "    \n",
    "    # Define type of data\n",
    "    songdata_schema = StructType([\n",
    "    StructField(\"artist_id\", StringType(), True),\n",
    "    StructField(\"artist_latitude\", DoubleType(), True),\n",
    "    StructField(\"artist_location\", StringType(), True),\n",
    "    StructField(\"artist_longitude\", DoubleType(), True),\n",
    "    StructField(\"artist_name\", StringType(), True), \n",
    "    StructField(\"duration\", DoubleType(), True),\n",
    "    StructField(\"num_songs\", IntegerType(), True),\n",
    "    StructField(\"song_id\", StringType(), False),\n",
    "    StructField(\"title\", StringType(), False),\n",
    "    StructField(\"year\", IntegerType(), True)\n",
    "    ])\n",
    "    \n",
    "    # read song data file\n",
    "    df = spark.read.json(song_data, schema = songdata_schema)\n",
    "\n",
    "    # extract columns to create songs table\n",
    "    songs_table = df.select(\"song_id\", \"title\", \"artist_id\", \"year\", \"duration\")\n",
    "    \n",
    "    # write songs table to parquet files partitioned by year and artist\n",
    "    songs_table.write.parquet(\n",
    "        output_data + \"songs_table.parquet\",\n",
    "        mode=\"overwrite\",\n",
    "        partitionBy=[\"year\", \"artist_id\"]\n",
    "    )\n",
    "\n",
    "    # extract columns to create artists table\n",
    "    artists_table = df.selectExpr(\n",
    "        \"artist_id\", \n",
    "        \"artist_name as name\", \n",
    "        \"artist_location as location\", \n",
    "        \"artist_latitude as latitude\", \n",
    "        \"artist_longitude as longitude\").distinct()\n",
    "    \n",
    "    # write artists table to parquet files\n",
    "    artists_table.write.parquet(\n",
    "        output_data + \"artists_table.parquet\",\n",
    "        mode=\"overwrite\"\n",
    ")\n"
   ]
  },
  {
   "cell_type": "markdown",
   "metadata": {
    "editable": true
   },
   "source": [
    "### Process Log Data"
   ]
  },
  {
   "cell_type": "code",
   "execution_count": null,
   "metadata": {
    "editable": true
   },
   "outputs": [],
   "source": [
    "# Define type of data \n",
    "logdata_schema = StructType([\n",
    "        StructField(\"artist\", StringType(), True),\n",
    "        StructField(\"auth\", StringType(), False),\n",
    "        StructField(\"firstName\", StringType(), True),\n",
    "        StructField(\"gender\", StringType(), True),\n",
    "        StructField(\"itemInSession\", IntegerType(), False),\n",
    "        StructField(\"lastName\", StringType(), True),\n",
    "        StructField(\"length\", DoubleType(), True),\n",
    "        StructField(\"level\", StringType(), False),\n",
    "        StructField(\"location\", StringType(), True),\n",
    "        StructField(\"method\", StringType(), False),\n",
    "        StructField(\"page\", StringType(), False),\n",
    "        StructField(\"registration\", DoubleType(), True),\n",
    "        StructField(\"sessionId\", IntegerType(), False),\n",
    "        StructField(\"song\", StringType(), True),\n",
    "        StructField(\"status\", IntegerType(), False),\n",
    "        StructField(\"ts\", DoubleType(), False),\n",
    "        StructField(\"userAgent\", StringType(), True),\n",
    "        StructField(\"userId\", StringType(), True)\n",
    "    ])\n",
    "log_df = spark.read.json(log_data, schema = logdata_schema)\n",
    "log_df.printSchema()\n",
    "#log_df.show(5)"
   ]
  },
  {
   "cell_type": "code",
   "execution_count": null,
   "metadata": {
    "editable": true
   },
   "outputs": [],
   "source": [
    "# filter by actions for song plays\n",
    "log_df = log_df.filter(col(\"page\") == \"NextSong\")\n",
    "#log_df.show(5)"
   ]
  },
  {
   "cell_type": "code",
   "execution_count": null,
   "metadata": {
    "editable": true
   },
   "outputs": [],
   "source": [
    "# extract columns for users table    \n",
    "# users - users in the app\n",
    "# user_id, first_name, last_name, gender, level\n",
    "users_table = log_df.select(\n",
    "    col(\"userId\").alias(\"user_id\"), \n",
    "    col(\"firstName\").alias(\"first_name\"), \n",
    "    col(\"lastName\").alias(\"last_name\"), \n",
    "    \"gender\", \n",
    "    \"level\"\n",
    ").distinct()\n",
    "#users_table.show(5)"
   ]
  },
  {
   "cell_type": "code",
   "execution_count": null,
   "metadata": {
    "editable": true
   },
   "outputs": [],
   "source": [
    "# write users table to parquet files\n",
    "users_table.write.parquet(\n",
    "        output_data + \"users_table.parquet\",\n",
    "        mode=\"overwrite\"\n",
    ")"
   ]
  },
  {
   "cell_type": "code",
   "execution_count": null,
   "metadata": {
    "editable": true
   },
   "outputs": [],
   "source": [
    "# create timestamp and datetime column\n",
    "get_timestamp = udf(lambda x: datetime.fromtimestamp(x / 1000.0), TimestampType())\n",
    "log_df = log_df.withColumn(\"timestamp\", get_timestamp(\"ts\"))\n",
    "get_datetime = udf(\n",
    "        lambda x: datetime.fromtimestamp(x / 1000).replace(microsecond=0),\n",
    "        TimestampType()\n",
    "    )\n",
    "log_df = log_df.withColumn(\"start_time\", get_datetime(\"ts\"))\n",
    "#log_df.show(5)"
   ]
  },
  {
   "cell_type": "code",
   "execution_count": null,
   "metadata": {
    "editable": true
   },
   "outputs": [],
   "source": [
    "# Create Time table \n",
    "# time - timestamps of records in songplays broken down into specific units\n",
    "# start_time, hour, day, week, month, year, weekday\n",
    "time_table = (\n",
    "    log_df\n",
    "    .withColumn(\"hour\", hour(\"start_time\"))\n",
    "    .withColumn(\"day\", dayofmonth(\"start_time\"))\n",
    "    .withColumn(\"week\", weekofyear(\"start_time\"))\n",
    "    .withColumn(\"month\", month(\"start_time\"))\n",
    "    .withColumn(\"year\", year(\"start_time\"))\n",
    "    .withColumn(\"weekday\", dayofweek(\"start_time\"))\n",
    "    .select(\"start_time\", \"hour\", \"day\", \"week\", \"month\", \"year\", \"weekday\")\n",
    "    .distinct()\n",
    "    )\n",
    "#time_table.show(5)"
   ]
  },
  {
   "cell_type": "code",
   "execution_count": null,
   "metadata": {
    "editable": true
   },
   "outputs": [],
   "source": [
    "# write time table to parquet files partitioned by year and month\n",
    "time_table.write.parquet(\n",
    "    output_data + \"time_table.parquet\",\n",
    "    mode=\"overwrite\", \n",
    "    partitionBy=[\"year\", \"month\"])"
   ]
  },
  {
   "cell_type": "code",
   "execution_count": null,
   "metadata": {
    "editable": true
   },
   "outputs": [],
   "source": [
    "# read in song data to use for songplays table\n",
    "song_df = spark.read.parquet(output_data + \"songs_table.parquet\")\n",
    "#song_df.head(5)"
   ]
  },
  {
   "cell_type": "code",
   "execution_count": null,
   "metadata": {
    "editable": true
   },
   "outputs": [],
   "source": [
    "# read artists data for songsplay table \n",
    "artists_table = spark.read.parquet(output_data + \"artists_table.parquet\")\n",
    "#artists_table.show(5)"
   ]
  },
  {
   "cell_type": "code",
   "execution_count": null,
   "metadata": {
    "editable": true
   },
   "outputs": [],
   "source": [
    "song_artist = song_df.join(artists_table, \"artist_id\", \"full\").select(\"artist_id\", \"name\", \"title\", \"duration\", \"song_id\")\n",
    "song_artist.show(5)"
   ]
  },
  {
   "cell_type": "code",
   "execution_count": null,
   "metadata": {
    "editable": true
   },
   "outputs": [],
   "source": [
    "# extract columns from joined song and log datasets to create songplays table \n",
    "# songplays - records in log data associated with song plays i.e. records with page NextSong\n",
    "# songplay_id, start_time, user_id, level, song_id, artist_id, session_id, location, user_agent\n",
    "songplays_table = log_df.join(\n",
    "        song_artist,\n",
    "        [\n",
    "            log_df.song == song_artist.song,\n",
    "            log_df.artist == song_artist.artist,\n",
    "            log_df.length == song_artist.length\n",
    "        ],\n",
    "        \"left\"\n",
    "    ).join(time_table, \"start_time\", \"left\").selectExpr(\n",
    "            \"start_time\",\n",
    "            \"userId as user_id\",\n",
    "            \"level\",\n",
    "            \"song_id\",\n",
    "            \"artist_id\", \n",
    "            \"sessionId as session_id\",\n",
    "            \"location\", \n",
    "            \"userAgent as user_agent\",\n",
    "            \"year\",\n",
    "            \"month\"\n",
    "        ).withColumn(\"songplay_id\", monotonically_increasing_id())\n",
    "songplays_table.show(5)"
   ]
  },
  {
   "cell_type": "code",
   "execution_count": null,
   "metadata": {
    "editable": true
   },
   "outputs": [],
   "source": [
    "# write songplays table to parquet files partitioned by year and month\n",
    "songplays_table.write.parquet(\n",
    "    output_data + \"songplays_table.parquet\",\n",
    "    mode=\"overwrite\", \n",
    "    partitionBy=[\"year\", \"month\"])"
   ]
  },
  {
   "cell_type": "code",
   "execution_count": null,
   "metadata": {
    "editable": true
   },
   "outputs": [],
   "source": []
  }
 ],
 "metadata": {
  "kernelspec": {
   "display_name": "Python 3",
   "language": "python",
   "name": "python3"
  },
  "language_info": {
   "codemirror_mode": {
    "name": "ipython",
    "version": 3
   },
   "file_extension": ".py",
   "mimetype": "text/x-python",
   "name": "python",
   "nbconvert_exporter": "python",
   "pygments_lexer": "ipython3",
   "version": "3.6.3"
  }
 },
 "nbformat": 4,
 "nbformat_minor": 4
}
